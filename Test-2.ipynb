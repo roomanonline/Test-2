{
 "cells": [
  {
   "cell_type": "markdown",
   "metadata": {},
   "source": [
    "## Welcome To Test-2\n"
   ]
  },
  {
   "cell_type": "markdown",
   "metadata": {},
   "source": [
    "## Happy Coding!!"
   ]
  },
  {
   "cell_type": "markdown",
   "metadata": {},
   "source": [
    "###### 1)\tFind the sum of minimum number and maximum number of a list without using any built-in functions"
   ]
  },
  {
   "cell_type": "code",
   "execution_count": null,
   "metadata": {},
   "outputs": [],
   "source": []
  },
  {
   "cell_type": "markdown",
   "metadata": {},
   "source": [
    "###### 2)\tGiven 3 set of roll numbers of students who play hockey, football and cricket. Print the roll numbers according to the below conditions.\n",
    "\n",
    "a) Who play any game \n",
    "\n",
    "b) Who play all 3 games \n",
    "\n",
    "c) Who play only hockey \n",
    "\n",
    "d) Who play either football or cricket but not both\n"
   ]
  },
  {
   "cell_type": "code",
   "execution_count": null,
   "metadata": {},
   "outputs": [],
   "source": []
  },
  {
   "cell_type": "markdown",
   "metadata": {},
   "source": [
    "###### 3) Capitalization is writing a word with its first letter as a capital letter. Your task is to capitalize the given word.Note, that during capitalization all the letters except the first one remains unchanged.\n",
    "\n",
    "<b>Input</b>\n",
    "\n",
    "A single line contains a non-empty word. This word consists of lowercase and uppercase English letters. The length of the word \n",
    "\n",
    "will not exceed 103.\n",
    "\n",
    "<b>Output</b>\n",
    "\n",
    "Output the given word after capitalization.\n",
    "\n",
    "Examples\n",
    "\n",
    "<b>input</b>\n",
    "\n",
    "ApPLe\n",
    "\n",
    "<b>output</b>\n",
    "\n",
    "ApPLe\n",
    "\n",
    "<b>input</b>\n",
    "\n",
    "konjac\n",
    "\n",
    "<b>output</b>\n",
    "\n",
    "Konjac\n"
   ]
  },
  {
   "cell_type": "code",
   "execution_count": null,
   "metadata": {},
   "outputs": [],
   "source": []
  }
 ],
 "metadata": {
  "kernelspec": {
   "display_name": "Python 3",
   "language": "python",
   "name": "python3"
  },
  "language_info": {
   "codemirror_mode": {
    "name": "ipython",
    "version": 3
   },
   "file_extension": ".py",
   "mimetype": "text/x-python",
   "name": "python",
   "nbconvert_exporter": "python",
   "pygments_lexer": "ipython3",
   "version": "3.7.3"
  }
 },
 "nbformat": 4,
 "nbformat_minor": 4
}
